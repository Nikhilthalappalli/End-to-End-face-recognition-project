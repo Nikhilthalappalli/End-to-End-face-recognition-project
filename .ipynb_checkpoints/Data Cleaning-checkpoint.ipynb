{
 "cells": [
  {
   "cell_type": "code",
   "execution_count": 1,
   "id": "d6e18e4b",
   "metadata": {},
   "outputs": [],
   "source": [
    "import os\n",
    "import imghdr\n",
    "import numpy as np\n",
    "import matplotlib.pyplot as plt\n",
    "import tensorflow as tf\n",
    "import hashlib\n",
    "import cv2"
   ]
  },
  {
   "cell_type": "code",
   "execution_count": 5,
   "id": "3335fc06",
   "metadata": {},
   "outputs": [],
   "source": [
    "def data_cleaning(path):\n",
    "        #Unsupported files\n",
    "        for image_class in os.listdir(path):\n",
    "            for image in os.listdir(os.path.join(path,image_class)):\n",
    "                image_path = os.path.join(path,image_class,image)\n",
    "                try:\n",
    "                    img = cv2.imread(image_path)\n",
    "                    tip = imghdr.what(image_path)\n",
    "                    if tip not in ['jpeg', 'png', 'gif', 'bmp']:\n",
    "                        print('Image not in ext list {}'.format(image_path))\n",
    "                        os.remove(image_path)\n",
    "                except Exception as e:\n",
    "                    print(\"Issue with image {}\".format(image_path))\n",
    "        print(\"Cleaning of unsupport files done\")\n",
    "        #duplicate images\n",
    "        for image_class in os.listdir(path):\n",
    "            duplicates = []\n",
    "            hash_keys = dict()\n",
    "            filelist = os.listdir(os.path.join(path,image_class))\n",
    "            for index,image in enumerate(os.listdir(os.path.join(path,image_class))):\n",
    "                image_path = os.path.join(path,image_class,image)\n",
    "                if os.path.isfile(image_path):\n",
    "                    with open(image_path,'rb') as f:\n",
    "                        filehash = hashlib.md5(f.read()).hexdigest()\n",
    "                    if filehash not in hash_keys:\n",
    "                        hash_keys[filehash] = index\n",
    "                    else:\n",
    "                        duplicates.append((index,hash_keys[filehash]))\n",
    "            for index in duplicates:\n",
    "                os.remove(os.path.join(path,image_class,filelist[index[0]]))\n",
    "                print('{} duplicates removed from {}'.format(len(duplicates),image_class))\n",
    "        print(\"Cleaning of dupplicate files done\")\n",
    "        \n",
    "        \n",
    "        #Tensorflow Unsupported files\n",
    "        for image_class in os.listdir(path):\n",
    "            for image in os.listdir(os.path.join(path,image_class)):\n",
    "                image_path = os.path.join(path,image_class,image)\n",
    "                with open(image_path, 'rb') as f:\n",
    "                    image_data = f.read()\n",
    "                try:\n",
    "                    image = tf.image.decode_image(image_data)\n",
    "                    \n",
    "                except:\n",
    "                    print(image,end=\" \")\n",
    "                    print(\"unspported\")\n",
    "                    os.remove(image_path)\n",
    "        print(\"Cleaning of tensorflow unsupport files done\")\n",
    "        "
   ]
  },
  {
   "cell_type": "code",
   "execution_count": 6,
   "id": "19df111b",
   "metadata": {},
   "outputs": [],
   "source": [
    "data_path = 'Dataset/train/'"
   ]
  },
  {
   "cell_type": "code",
   "execution_count": 7,
   "id": "7469b3a9",
   "metadata": {},
   "outputs": [
    {
     "name": "stdout",
     "output_type": "stream",
     "text": [
      "Image not in ext list Dataset/train/chris evans\\PRC_164810691.jpg\n",
      "Image not in ext list Dataset/train/chris evans\\skynews-chris-evans-sexiest-man_5958321.jpg\n",
      "Image not in ext list Dataset/train/chris evans\\vector.svg\n",
      "Image not in ext list Dataset/train/chris evans\\vector10.svg\n",
      "Image not in ext list Dataset/train/chris evans\\vector11.svg\n",
      "Image not in ext list Dataset/train/chris evans\\vector12.svg\n",
      "Image not in ext list Dataset/train/chris evans\\vector13.svg\n",
      "Image not in ext list Dataset/train/chris evans\\vector14.svg\n",
      "Image not in ext list Dataset/train/chris evans\\vector2.svg\n",
      "Image not in ext list Dataset/train/chris evans\\vector3.svg\n",
      "Image not in ext list Dataset/train/chris evans\\vector4.svg\n",
      "Image not in ext list Dataset/train/chris evans\\vector5.svg\n",
      "Image not in ext list Dataset/train/chris evans\\vector6.svg\n",
      "Image not in ext list Dataset/train/chris evans\\vector7.svg\n",
      "Image not in ext list Dataset/train/chris evans\\vector8.svg\n",
      "Image not in ext list Dataset/train/chris evans\\vector9.svg\n",
      "Image not in ext list Dataset/train/tom cruise\\3-Tom-Cruise.jpg\n",
      "Image not in ext list Dataset/train/tom cruise\\aged-tom-cruise-vfq0ibilahlxh7v8.jpg\n",
      "Image not in ext list Dataset/train/tom cruise\\p0g0xx2j.jpg\n",
      "Image not in ext list Dataset/train/tom cruise\\thequint2F2023-062F8341aa1a-812a-48b4-b780-0517bf74253a2FRujuta__DND__13_.jpg\n",
      "Image not in ext list Dataset/train/tom cruise\\Tom-Cruise-2013.jpg\n",
      "Image not in ext list Dataset/train/tom cruise\\tom-cruise-3tiedv7po91x0tno.jpg\n",
      "Image not in ext list Dataset/train/tom cruise\\Tom-Cruise-Top-Gun-Tony-Scott.jpg\n",
      "Image not in ext list Dataset/train/tom cruise\\tomcruisecannes202241652943733.jpg\n",
      "Image not in ext list Dataset/train/tom cruise\\tomcruisewives.webp\n",
      "Image not in ext list Dataset/train/tom cruise\\tomcruise_awards.webp\n",
      "Image not in ext list Dataset/train/tom cruise\\top-gun-3-tom-cruise.jpg\n",
      "Image not in ext list Dataset/train/tom cruise\\vector.svg\n",
      "Image not in ext list Dataset/train/tom cruise\\vector10.svg\n",
      "Image not in ext list Dataset/train/tom cruise\\vector11.svg\n",
      "Image not in ext list Dataset/train/tom cruise\\vector12.svg\n",
      "Image not in ext list Dataset/train/tom cruise\\vector13.svg\n",
      "Image not in ext list Dataset/train/tom cruise\\vector14.svg\n",
      "Image not in ext list Dataset/train/tom cruise\\vector15.svg\n",
      "Image not in ext list Dataset/train/tom cruise\\vector2.svg\n",
      "Image not in ext list Dataset/train/tom cruise\\vector3.svg\n",
      "Image not in ext list Dataset/train/tom cruise\\vector4.svg\n",
      "Image not in ext list Dataset/train/tom cruise\\vector5.svg\n",
      "Image not in ext list Dataset/train/tom cruise\\vector6.svg\n",
      "Image not in ext list Dataset/train/tom cruise\\vector7.svg\n",
      "Image not in ext list Dataset/train/tom cruise\\vector8.svg\n",
      "Image not in ext list Dataset/train/tom cruise\\vector9.svg\n",
      "Image not in ext list Dataset/train/tom cruise\\y-scientology-she-cleaned-public-bathroom-on-her-hands-post-their-break-up-1.jpg\n",
      "Cleaning of unsupport files done\n",
      "3 duplicates removed from brad pitt\n",
      "3 duplicates removed from brad pitt\n",
      "3 duplicates removed from brad pitt\n",
      "1 duplicates removed from tom cruise\n",
      "Cleaning of dupplicate files done\n",
      "Cleaning of tensorflow unsupport files done\n"
     ]
    }
   ],
   "source": [
    "data_cleaning(data_path)"
   ]
  },
  {
   "cell_type": "code",
   "execution_count": 101,
   "id": "ba0edfc8",
   "metadata": {},
   "outputs": [],
   "source": []
  },
  {
   "cell_type": "code",
   "execution_count": null,
   "id": "08eaa809",
   "metadata": {},
   "outputs": [],
   "source": []
  }
 ],
 "metadata": {
  "kernelspec": {
   "display_name": "Python 3 (ipykernel)",
   "language": "python",
   "name": "python3"
  },
  "language_info": {
   "codemirror_mode": {
    "name": "ipython",
    "version": 3
   },
   "file_extension": ".py",
   "mimetype": "text/x-python",
   "name": "python",
   "nbconvert_exporter": "python",
   "pygments_lexer": "ipython3",
   "version": "3.10.11"
  }
 },
 "nbformat": 4,
 "nbformat_minor": 5
}
